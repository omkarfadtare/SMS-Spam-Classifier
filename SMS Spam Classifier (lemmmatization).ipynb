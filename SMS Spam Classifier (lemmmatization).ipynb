{
 "cells": [
  {
   "cell_type": "code",
   "execution_count": 1,
   "id": "5dc4ab7c",
   "metadata": {},
   "outputs": [],
   "source": [
    "# Data is tab seprated instead of space seprated So we use separator"
   ]
  },
  {
   "cell_type": "code",
   "execution_count": 2,
   "id": "4f143358",
   "metadata": {},
   "outputs": [],
   "source": [
    "import pandas as pd"
   ]
  },
  {
   "cell_type": "code",
   "execution_count": 3,
   "id": "a4ccda94",
   "metadata": {},
   "outputs": [],
   "source": [
    "# Loading data-\n",
    "\n",
    "messages = pd.read_csv('SMSSpamCollection.csv', sep='\\t', names=[\"label\",\"message\"])"
   ]
  },
  {
   "cell_type": "code",
   "execution_count": 4,
   "id": "16f0f8fc",
   "metadata": {},
   "outputs": [
    {
     "data": {
      "text/html": [
       "<div>\n",
       "<style scoped>\n",
       "    .dataframe tbody tr th:only-of-type {\n",
       "        vertical-align: middle;\n",
       "    }\n",
       "\n",
       "    .dataframe tbody tr th {\n",
       "        vertical-align: top;\n",
       "    }\n",
       "\n",
       "    .dataframe thead th {\n",
       "        text-align: right;\n",
       "    }\n",
       "</style>\n",
       "<table border=\"1\" class=\"dataframe\">\n",
       "  <thead>\n",
       "    <tr style=\"text-align: right;\">\n",
       "      <th></th>\n",
       "      <th>label</th>\n",
       "      <th>message</th>\n",
       "    </tr>\n",
       "  </thead>\n",
       "  <tbody>\n",
       "    <tr>\n",
       "      <th>0</th>\n",
       "      <td>ham</td>\n",
       "      <td>Go until jurong point, crazy.. Available only ...</td>\n",
       "    </tr>\n",
       "    <tr>\n",
       "      <th>1</th>\n",
       "      <td>ham</td>\n",
       "      <td>Ok lar... Joking wif u oni...</td>\n",
       "    </tr>\n",
       "    <tr>\n",
       "      <th>2</th>\n",
       "      <td>spam</td>\n",
       "      <td>Free entry in 2 a wkly comp to win FA Cup fina...</td>\n",
       "    </tr>\n",
       "    <tr>\n",
       "      <th>3</th>\n",
       "      <td>ham</td>\n",
       "      <td>U dun say so early hor... U c already then say...</td>\n",
       "    </tr>\n",
       "    <tr>\n",
       "      <th>4</th>\n",
       "      <td>ham</td>\n",
       "      <td>Nah I don't think he goes to usf, he lives aro...</td>\n",
       "    </tr>\n",
       "    <tr>\n",
       "      <th>...</th>\n",
       "      <td>...</td>\n",
       "      <td>...</td>\n",
       "    </tr>\n",
       "    <tr>\n",
       "      <th>5567</th>\n",
       "      <td>spam</td>\n",
       "      <td>This is the 2nd time we have tried 2 contact u...</td>\n",
       "    </tr>\n",
       "    <tr>\n",
       "      <th>5568</th>\n",
       "      <td>ham</td>\n",
       "      <td>Will ü b going to esplanade fr home?</td>\n",
       "    </tr>\n",
       "    <tr>\n",
       "      <th>5569</th>\n",
       "      <td>ham</td>\n",
       "      <td>Pity, * was in mood for that. So...any other s...</td>\n",
       "    </tr>\n",
       "    <tr>\n",
       "      <th>5570</th>\n",
       "      <td>ham</td>\n",
       "      <td>The guy did some bitching but I acted like i'd...</td>\n",
       "    </tr>\n",
       "    <tr>\n",
       "      <th>5571</th>\n",
       "      <td>ham</td>\n",
       "      <td>Rofl. Its true to its name</td>\n",
       "    </tr>\n",
       "  </tbody>\n",
       "</table>\n",
       "<p>5572 rows × 2 columns</p>\n",
       "</div>"
      ],
      "text/plain": [
       "     label                                            message\n",
       "0      ham  Go until jurong point, crazy.. Available only ...\n",
       "1      ham                      Ok lar... Joking wif u oni...\n",
       "2     spam  Free entry in 2 a wkly comp to win FA Cup fina...\n",
       "3      ham  U dun say so early hor... U c already then say...\n",
       "4      ham  Nah I don't think he goes to usf, he lives aro...\n",
       "...    ...                                                ...\n",
       "5567  spam  This is the 2nd time we have tried 2 contact u...\n",
       "5568   ham               Will ü b going to esplanade fr home?\n",
       "5569   ham  Pity, * was in mood for that. So...any other s...\n",
       "5570   ham  The guy did some bitching but I acted like i'd...\n",
       "5571   ham                         Rofl. Its true to its name\n",
       "\n",
       "[5572 rows x 2 columns]"
      ]
     },
     "execution_count": 4,
     "metadata": {},
     "output_type": "execute_result"
    }
   ],
   "source": [
    "messages"
   ]
  },
  {
   "cell_type": "code",
   "execution_count": 5,
   "id": "d16bff46",
   "metadata": {},
   "outputs": [
    {
     "name": "stderr",
     "output_type": "stream",
     "text": [
      "[nltk_data] Error loading stopwords: <urlopen error [Errno 11001]\n",
      "[nltk_data]     getaddrinfo failed>\n"
     ]
    },
    {
     "data": {
      "text/plain": [
       "False"
      ]
     },
     "execution_count": 5,
     "metadata": {},
     "output_type": "execute_result"
    }
   ],
   "source": [
    "import re\n",
    "import nltk\n",
    "nltk.download('stopwords')"
   ]
  },
  {
   "cell_type": "code",
   "execution_count": 6,
   "id": "41a441c4",
   "metadata": {},
   "outputs": [],
   "source": [
    "from nltk.corpus import stopwords\n",
    "from nltk.stem import WordNetLemmatizer # for lemmanization"
   ]
  },
  {
   "cell_type": "code",
   "execution_count": 7,
   "id": "32eef5ea",
   "metadata": {},
   "outputs": [],
   "source": [
    "# Data Cleaning & Preprocessing-"
   ]
  },
  {
   "cell_type": "code",
   "execution_count": 8,
   "id": "67cf7fcd",
   "metadata": {},
   "outputs": [],
   "source": [
    "# Creating object-\n",
    "\n",
    "wordnet = WordNetLemmatizer()"
   ]
  },
  {
   "cell_type": "code",
   "execution_count": 9,
   "id": "db3b4357",
   "metadata": {},
   "outputs": [],
   "source": [
    "corpus = []\n",
    "for i in range (0, len(messages)):\n",
    "    review = re.sub('[^a-zA-Z]', ' ', messages['message'][i]) # removing comma,spaces etc from the sentences other than a-z, A-Z\n",
    "    review = review.lower() # lowering the words of each sentences\n",
    "    review = review.split() # getting list of words\n",
    "    \n",
    "    review = [wordnet.lemmatize(word) for word in review if not word in set(stopwords.words('english'))] # list comprehension\n",
    "    review = ''.join(review) # joining list of words into review\n",
    "    corpus.append(review) # appending to the list we created"
   ]
  },
  {
   "cell_type": "code",
   "execution_count": 10,
   "id": "cb900734",
   "metadata": {},
   "outputs": [],
   "source": [
    "# Creating Bag of Words model-"
   ]
  },
  {
   "cell_type": "code",
   "execution_count": 12,
   "id": "d0bb577b",
   "metadata": {},
   "outputs": [],
   "source": [
    "from sklearn.feature_extraction.text import TfidfVectorizer\n",
    "cv = TfidfVectorizer(max_features=5000) # Selecting max 5000 features you can change it on your own; That means I have selected top 5000 most frequent words.\n",
    "X = cv.fit_transform(corpus).toarray()"
   ]
  },
  {
   "cell_type": "code",
   "execution_count": 13,
   "id": "d5141440",
   "metadata": {},
   "outputs": [],
   "source": [
    "y = pd.get_dummies(messages['label']) # Model wont understand ham & spam so we converted them; whenever there is ham or spam it will be indicated by 1\n",
    "y = y.iloc[:,1].values # so we converted them into just one column (ham=0,spam=1)"
   ]
  },
  {
   "cell_type": "code",
   "execution_count": 14,
   "id": "63e6415a",
   "metadata": {},
   "outputs": [],
   "source": [
    "# Train-Test split-"
   ]
  },
  {
   "cell_type": "code",
   "execution_count": 15,
   "id": "b9dd4ead",
   "metadata": {},
   "outputs": [],
   "source": [
    "from sklearn.model_selection import train_test_split\n",
    "X_train,X_test, y_train, y_test = train_test_split(X,y,test_size=0.20,random_state=0)"
   ]
  },
  {
   "cell_type": "code",
   "execution_count": 16,
   "id": "3e2e9e36",
   "metadata": {},
   "outputs": [],
   "source": [
    "# Training Model usin Naive Bayes classifier- Since Naive Byes model works best for NLP."
   ]
  },
  {
   "cell_type": "code",
   "execution_count": 17,
   "id": "c79b9892",
   "metadata": {},
   "outputs": [],
   "source": [
    "from sklearn.naive_bayes import MultinomialNB # It is Naive Byes library\n",
    "spam_detect_model = MultinomialNB().fit(X_train, y_train)"
   ]
  },
  {
   "cell_type": "code",
   "execution_count": 18,
   "id": "30476946",
   "metadata": {},
   "outputs": [],
   "source": [
    "y_pred = spam_detect_model.predict(X_test)"
   ]
  },
  {
   "cell_type": "code",
   "execution_count": 19,
   "id": "f2ad8c73",
   "metadata": {},
   "outputs": [],
   "source": [
    "# Comparing y_test and y_pred"
   ]
  },
  {
   "cell_type": "code",
   "execution_count": 20,
   "id": "c5605e39",
   "metadata": {},
   "outputs": [],
   "source": [
    "from sklearn.metrics import confusion_matrix # Confusion matrix- Will give 2+2 dimensional matrix which will tell you that how many number of elements are correctly predicted"
   ]
  },
  {
   "cell_type": "code",
   "execution_count": 21,
   "id": "8a12c6c6",
   "metadata": {},
   "outputs": [
    {
     "data": {
      "text/plain": [
       "array([[955,   0],\n",
       "       [156,   4]], dtype=int64)"
      ]
     },
     "execution_count": 21,
     "metadata": {},
     "output_type": "execute_result"
    }
   ],
   "source": [
    "confusion_m = confusion_matrix(y_test,y_pred)\n",
    "confusion_m"
   ]
  },
  {
   "cell_type": "code",
   "execution_count": 22,
   "id": "e171b373",
   "metadata": {},
   "outputs": [],
   "source": [
    "# Checking accuracy score"
   ]
  },
  {
   "cell_type": "code",
   "execution_count": 23,
   "id": "15e2574e",
   "metadata": {},
   "outputs": [],
   "source": [
    "from sklearn.metrics import accuracy_score"
   ]
  },
  {
   "cell_type": "code",
   "execution_count": 24,
   "id": "7fd9ef21",
   "metadata": {},
   "outputs": [
    {
     "data": {
      "text/plain": [
       "0.8600896860986547"
      ]
     },
     "execution_count": 24,
     "metadata": {},
     "output_type": "execute_result"
    }
   ],
   "source": [
    "accuracy = accuracy_score(y_test,y_pred)\n",
    "accuracy"
   ]
  },
  {
   "cell_type": "code",
   "execution_count": 25,
   "id": "09b99d9e",
   "metadata": {},
   "outputs": [],
   "source": [
    "# Accuracy is 86%"
   ]
  }
 ],
 "metadata": {
  "kernelspec": {
   "display_name": "Python 3",
   "language": "python",
   "name": "python3"
  },
  "language_info": {
   "codemirror_mode": {
    "name": "ipython",
    "version": 3
   },
   "file_extension": ".py",
   "mimetype": "text/x-python",
   "name": "python",
   "nbconvert_exporter": "python",
   "pygments_lexer": "ipython3",
   "version": "3.8.8"
  }
 },
 "nbformat": 4,
 "nbformat_minor": 5
}
